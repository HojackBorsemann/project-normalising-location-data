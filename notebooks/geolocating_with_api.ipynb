{
 "cells": [
  {
   "cell_type": "markdown",
   "metadata": {
    "application/vnd.databricks.v1+cell": {
     "cellMetadata": {},
     "inputWidgets": {},
     "nuid": "f7782d55-c69e-496d-93a2-7c24977c4010",
     "showTitle": false,
     "tableResultSettingsMap": {},
     "title": ""
    }
   },
   "source": [
    "## Setup notebook"
   ]
  },
  {
   "cell_type": "code",
   "execution_count": 0,
   "metadata": {
    "application/vnd.databricks.v1+cell": {
     "cellMetadata": {
      "byteLimit": 2048000,
      "rowLimit": 10000
     },
     "inputWidgets": {},
     "nuid": "71142791-e16f-4298-91ad-90a1bd2248b2",
     "showTitle": false,
     "tableResultSettingsMap": {},
     "title": ""
    }
   },
   "outputs": [
   ],
   "source": [
    "%pip install geopy > /dev/null 2>&1\n",
    "dbutils.library.restartPython()"
   ]
  },
  {
   "cell_type": "code",
   "execution_count": 0,
   "metadata": {
    "application/vnd.databricks.v1+cell": {
     "cellMetadata": {
      "byteLimit": 2048000,
      "rowLimit": 10000
     },
     "inputWidgets": {},
     "nuid": "e30cc09a-131e-40df-a0fa-993f4b4aaae4",
     "showTitle": false,
     "tableResultSettingsMap": {},
     "title": ""
    }
   },
   "outputs": [],
   "source": [
    "# Core\n",
    "import requests\n",
    "import re\n",
    "import logging\n",
    "import warnings\n",
    "\n",
    "# Data handling\n",
    "import pandas as pd\n",
    "import numpy as np\n",
    "import math\n",
    "\n",
    "# API management\n",
    "import backoff\n",
    "from geopy.exc import GeocoderTimedOut"
   ]
  },
  {
   "cell_type": "code",
   "execution_count": 0,
   "metadata": {
    "application/vnd.databricks.v1+cell": {
     "cellMetadata": {
      "byteLimit": 2048000,
      "rowLimit": 10000
     },
     "inputWidgets": {},
     "nuid": "2b544c36-f3c5-4b91-9d46-b8679fa7bddd",
     "showTitle": false,
     "tableResultSettingsMap": {},
     "title": ""
    }
   },
   "outputs": [
    {
     "data": {
      "text/html": [
       "<div>\n",
       "<style scoped>\n",
       "    .dataframe tbody tr th:only-of-type {\n",
       "        vertical-align: middle;\n",
       "    }\n",
       "\n",
       "    .dataframe tbody tr th {\n",
       "        vertical-align: top;\n",
       "    }\n",
       "\n",
       "    .dataframe thead th {\n",
       "        text-align: right;\n",
       "    }\n",
       "</style>\n",
       "<table border=\"1\" class=\"dataframe\">\n",
       "  <thead>\n",
       "    <tr style=\"text-align: right;\">\n",
       "      <th></th>\n",
       "      <th>location</th>\n",
       "    </tr>\n",
       "  </thead>\n",
       "  <tbody>\n",
       "    <tr>\n",
       "      <th>0</th>\n",
       "      <td>London</td>\n",
       "    </tr>\n",
       "    <tr>\n",
       "      <th>1</th>\n",
       "      <td>London, GB, W1A 1AA</td>\n",
       "    </tr>\n",
       "    <tr>\n",
       "      <th>2</th>\n",
       "      <td>LUTON AIRPORT, UK</td>\n",
       "    </tr>\n",
       "    <tr>\n",
       "      <th>3</th>\n",
       "      <td>SOUTHAMPTON INTL AIRPORT, UK</td>\n",
       "    </tr>\n",
       "    <tr>\n",
       "      <th>4</th>\n",
       "      <td>NORTHOLT, UK</td>\n",
       "    </tr>\n",
       "    <tr>\n",
       "      <th>5</th>\n",
       "      <td>United Kingdom</td>\n",
       "    </tr>\n",
       "    <tr>\n",
       "      <th>6</th>\n",
       "      <td>116/118 Market Street St Andrews, United Kingdom</td>\n",
       "    </tr>\n",
       "    <tr>\n",
       "      <th>7</th>\n",
       "      <td>Crawley</td>\n",
       "    </tr>\n",
       "    <tr>\n",
       "      <th>8</th>\n",
       "      <td>Reading</td>\n",
       "    </tr>\n",
       "    <tr>\n",
       "      <th>9</th>\n",
       "      <td>Cheadle</td>\n",
       "    </tr>\n",
       "  </tbody>\n",
       "</table>\n",
       "</div>"
      ],
      "text/plain": [
       "                                           location\n",
       "0                                            London\n",
       "1                               London, GB, W1A 1AA\n",
       "2                                 LUTON AIRPORT, UK\n",
       "3                      SOUTHAMPTON INTL AIRPORT, UK\n",
       "4                                      NORTHOLT, UK\n",
       "5                                    United Kingdom\n",
       "6  116/118 Market Street St Andrews, United Kingdom\n",
       "7                                           Crawley\n",
       "8                                           Reading\n",
       "9                                           Cheadle"
      ]
     },
     "execution_count": 43,
     "metadata": {},
     "output_type": "execute_result"
    }
   ],
   "source": [
    "# Load in locations planning to geolocate\n",
    "df = pd.read_csv('/no_duplicates.csv')\n",
    "df.head(10)"
   ]
  },
  {
   "cell_type": "markdown",
   "metadata": {
    "application/vnd.databricks.v1+cell": {
     "cellMetadata": {
      "byteLimit": 2048000,
      "rowLimit": 10000
     },
     "inputWidgets": {},
     "nuid": "27cc5c25-1760-440a-8949-8fe64b3e9326",
     "showTitle": false,
     "tableResultSettingsMap": {},
     "title": ""
    }
   },
   "source": [
    "## Preparing for geolocation\n",
    "- Setting up logging to handle errors gracefully\n",
    "- Preparing to store aside locations that failed to be geolocated\n",
    "- Specifying list of address elements we expect from each API response"
   ]
  },
  {
   "cell_type": "code",
   "execution_count": 0,
   "metadata": {
    "application/vnd.databricks.v1+cell": {
     "cellMetadata": {
      "byteLimit": 2048000,
      "rowLimit": 10000
     },
     "inputWidgets": {},
     "nuid": "a68500e6-9905-4c0f-91bf-a38c3920161f",
     "showTitle": false,
     "tableResultSettingsMap": {},
     "title": ""
    }
   },
   "outputs": [],
   "source": [
    "# Setting up dataframes for later\n",
    "final_df = pd.DataFrame()\n",
    "batched_dfs = pd.DataFrame()\n",
    "\n",
    "# Set up logging\n",
    "logging.basicConfig(level=logging.INFO)\n",
    "logger = logging.getLogger(__name__)\n",
    "logging.getLogger(\"py4j.clientserver\").setLevel(logging.ERROR)\n",
    "\n",
    "# Define the LocationIQ access token\n",
    "LOCATIONIQ_ACCESS_TOKEN = \"pk.a6a753d4f351d2d1796e949e2d97429e\"\n",
    "\n",
    "# Define list of address elements\n",
    "address_elements = [\n",
    "    \"name\",\n",
    "    \"house_number\",\n",
    "    \"road\",\n",
    "    \"neighbourhood\",\n",
    "    \"suburb\",\n",
    "    \"island\",\n",
    "    \"city\",\n",
    "    \"county\",\n",
    "    \"state\",\n",
    "    \"state_code\",\n",
    "    \"postcode\",\n",
    "    \"country\",\n",
    "    \"country_code\",\n",
    "]"
   ]
  },
  {
   "cell_type": "markdown",
   "metadata": {
    "application/vnd.databricks.v1+cell": {
     "cellMetadata": {
      "byteLimit": 2048000,
      "rowLimit": 10000
     },
     "inputWidgets": {},
     "nuid": "677bcbbd-7b56-42ff-bdcc-bcf69282381d",
     "showTitle": false,
     "tableResultSettingsMap": {},
     "title": ""
    }
   },
   "source": [
    "## Defining the geolocation function 'geocode_location'\n",
    "- Using exponential backoff to manage API throttling\n",
    "- Setting the base URL for the LocationIQ API, including parameters\n",
    "- Makes the HTTP GET request to API, using requests.get to retrieve data"
   ]
  },
  {
   "cell_type": "code",
   "execution_count": 0,
   "metadata": {
    "application/vnd.databricks.v1+cell": {
     "cellMetadata": {
      "byteLimit": 2048000,
      "rowLimit": 10000
     },
     "inputWidgets": {},
     "nuid": "e658c315-713e-431f-be33-058e02cc4a39",
     "showTitle": false,
     "tableResultSettingsMap": {},
     "title": ""
    }
   },
   "outputs": [],
   "source": [
    "# Exponential backoff to circumvent API timeouts to LocationIQ\n",
    "@backoff.on_exception(\n",
    "    backoff.expo, (GeocoderTimedOut, requests.exceptions.RequestException), max_tries=10\n",
    ")\n",
    "@backoff.on_predicate(\n",
    "    backoff.expo,\n",
    "    lambda x: \"Invalid Request: Rate Limited\" in x[\"LocationIQ_address\"],\n",
    "    max_tries=10,\n",
    ")\n",
    "\n",
    "# Function definition\n",
    "def geocode_location(x, countrycodes=None):\n",
    "    base_url = \"https://eu1.locationiq.com/v1/search\"\n",
    "    if countrycodes:\n",
    "        params = {\n",
    "            \"key\": LOCATIONIQ_ACCESS_TOKEN,\n",
    "            \"q\": x,\n",
    "            \"format\": \"json\",\n",
    "            \"addressdetails\": 1,\n",
    "            \"normalizeaddress\": 1,\n",
    "            \"countrycodes\": countrycodes,\n",
    "            \"statecode\": 0,\n",
    "            \"matchquality\": 1,\n",
    "        }\n",
    "    else:\n",
    "        params = {\n",
    "            \"key\": LOCATIONIQ_ACCESS_TOKEN,\n",
    "            \"q\": x,\n",
    "            \"format\": \"json\",\n",
    "            \"addressdetails\": 1,\n",
    "            \"normalizeaddress\": 1,\n",
    "            \"statecode\": 0,\n",
    "            \"matchquality\": 1,\n",
    "        }\n",
    "\n",
    "    # Make the API request\n",
    "    response = requests.get(base_url, params=params)\n",
    "    data = response.json()\n",
    "\n",
    "    # Initialize address dictionary\n",
    "    x_address = {}\n",
    "\n",
    "    if \"error\" in data:\n",
    "        # Handle error case\n",
    "        x_address[\"LocationIQ_address\"] = \"Invalid Request: \" + data[\"error\"]\n",
    "        x_address[\"latitude\"] = \"No latitude\"\n",
    "        x_address[\"longitude\"] = \"No longitude\"\n",
    "        x_address[\"matchcode\"] = \"No matchcode\"\n",
    "        x_address[\"matchtype\"] = \"No matchtype\"\n",
    "        x_address[\"LocationIQ_potential_locations\"] = \"No matches\"\n",
    "        for element in address_elements:\n",
    "            x_address[element] = \"No address element\"\n",
    "\n",
    "    elif data and len(data) > 0:\n",
    "        x_address[\"latitude\"] = data[0].get(\"lat\", \"No latitude\")\n",
    "        x_address[\"longitude\"] = data[0].get(\"lon\", \"No longitude\")\n",
    "        matchquality = data[0].get(\"matchquality\", {})\n",
    "        x_address[\"matchcode\"] = matchquality.get(\"matchcode\", \"No matchcode\")\n",
    "        x_address[\"matchtype\"] = matchquality.get(\"matchtype\", \"No matchtype\")\n",
    "        x_address[\"LocationIQ_address\"] = data[0].get(\"display_name\", \"No display name\")\n",
    "        x_address[\"LocationIQ_potential_locations\"] = len(data)\n",
    "        address_details = data[0].get(\"address\", {})\n",
    "        for element in address_elements:\n",
    "            x_address[element] = address_details.get(element, \"No address element\")\n",
    "    else:\n",
    "        x_address[\"LocationIQ_address\"] = \"LocationIQ cannot find address\"\n",
    "        x_address[\"latitude\"] = \"No latitude\"\n",
    "        x_address[\"longitude\"] = \"No longitude\"\n",
    "        x_address[\"matchcode\"] = \"No matchcode\"\n",
    "        x_address[\"matchtype\"] = \"No matchtype\"\n",
    "        x_address[\"LocationIQ_potential_locations\"] = \"No matches\"\n",
    "        for element in address_elements:\n",
    "            x_address[element] = \"No address element\"\n",
    "\n",
    "    return x_address"
   ]
  },
  {
   "cell_type": "markdown",
   "metadata": {
    "application/vnd.databricks.v1+cell": {
     "cellMetadata": {
      "byteLimit": 2048000,
      "rowLimit": 10000
     },
     "inputWidgets": {},
     "nuid": "11548f0a-0a19-4c18-ade5-eb82c5a4b057",
     "showTitle": false,
     "tableResultSettingsMap": {},
     "title": ""
    }
   },
   "source": [
    "## Running geocode_location\n",
    "We're splitting up the processing into batches for better logging and error handling in case of failure\n"
   ]
  },
  {
   "cell_type": "code",
   "execution_count": 0,
   "metadata": {
    "application/vnd.databricks.v1+cell": {
     "cellMetadata": {
      "byteLimit": 2048000,
      "rowLimit": 10000
     },
     "inputWidgets": {},
     "nuid": "a9f47249-a2e0-4672-961e-69c954611887",
     "showTitle": false,
     "tableResultSettingsMap": {},
     "title": ""
    }
   },
   "outputs": [],
   "source": [
    "def batch_geocode(df, countrycodes, batch_size):\n",
    "    \"\"\"\n",
    "    Batch geocodes the 'location' column of a DataFrame using the geocode_location function.\n",
    "    \n",
    "    Parameters:\n",
    "        df (pd.DataFrame): Input DataFrame containing a 'location' column.\n",
    "        countrycodes (str): Country code(s) to use in the geocode_location function.\n",
    "        batch_size (int): Number of rows to process per batch.\n",
    "        \n",
    "    Returns:\n",
    "        pd.DataFrame: A DataFrame with geocoded information and a 'match accuracy' column.\n",
    "    \"\"\"\n",
    "\n",
    "    batched_list = []\n",
    "    total_rows = df.shape[0]\n",
    "    num_batches = math.ceil(total_rows / batch_size)\n",
    "\n",
    "    # Loop over batches\n",
    "    try:\n",
    "        for i in range(num_batches):\n",
    "            start_index = i * batch_size\n",
    "            end_index = min((i + 1) * batch_size, total_rows)\n",
    "            print(f\"Processing batch {i+1}/{num_batches} ...\")\n",
    "\n",
    "            df_hold = df.iloc[start_index:end_index].copy()\n",
    "\n",
    "            # Geocoding using geocode_location\n",
    "            df_hold[\"geocoded_address\"] = df_hold[\"location\"].apply(\n",
    "                lambda loc: geocode_location(loc, countrycodes=countrycodes)\n",
    "            )\n",
    "\n",
    "            df_hold[\"geocoding_function\"] = \"within countrycodes\"\n",
    "\n",
    "            # Identify failed geocoding cases\n",
    "            failed_mask = df_hold[\"geocoded_address\"].apply(\n",
    "                lambda x: isinstance (x, dict) and \"Invalid Request\" in x.get(\"LocationIQ_address\", \"\")                                                               \n",
    "            )\n",
    "            if failed_mask.any():\n",
    "                # Retry these without the countrycodes parameter\n",
    "                df_hold.loc[failed_mask, \"geocoded_address\"] = df_hold.loc[failed_mask, \"location\"].apply(geocode_location)\n",
    "                df_hold.loc[failed_mask, \"geocoding_function\"] = \"outside of countrycodes country\"\n",
    "\n",
    "            # Extract fields from geocoded_address dictionary\n",
    "            df_hold[\"latitude, longitude\"] = df_hold[\"geocoded_address\"].apply(\n",
    "                lambda x: f\"{x.get('latitude', 'N/A')}, {x.get('longitude', 'N/A')}\"\n",
    "            )\n",
    "            df_hold[\"matchcode\"] = df_hold[\"geocoded_address\"].apply(lambda x: x.get(\"matchcode\", \"N/A\"))\n",
    "            df_hold[\"matchtype\"] = df_hold[\"geocoded_address\"].apply(lambda x: x.get(\"matchtype\", \"N/A\"))\n",
    "            df_hold[\"LocationIQ_potential_locations\"] = df_hold[\"geocoded_address\"].apply(\n",
    "                lambda x: x.get(\"LocationIQ_potential_locations\", \"N/A\")\n",
    "            )\n",
    "            df_hold[\"LocationIQ_potential_locations\"] = df_hold[\"LocationIQ_potential_locations\"].replace(10, \"10 or more\")\n",
    "\n",
    "            # Populate additional address elements\n",
    "            for element in address_elements:\n",
    "                df_hold[element] = df_hold[\"geocoded_address\"].apply(lambda x: x.get(element, \"N/A\"))\n",
    "\n",
    "            batched_list.append(df_hold)\n",
    "        \n",
    "    except KeyboardInterrupt:\n",
    "        print(\"Processing interrupted by user. Compiling results so far...\")\n",
    "    except Exception as e:\n",
    "        print(f\"An unexpected error occurred in batch processing: {e}\")\n",
    "\n",
    "    # Concatenate all successfully processed batches\n",
    "    if batched_list:\n",
    "        final_df = pd.concat(batched_list, ignore_index=True)\n",
    "    else:\n",
    "        final_df = pd.DataFrame()\n",
    "    \n",
    "    # Add a 'match accuracy' column\n",
    "    final_df[\"match accuracy\"] = np.where(\n",
    "        final_df[\"matchcode\"].isin([\"exact\", \"fallback\"]),\n",
    "        \"high accuracy\",\n",
    "        np.where(final_df[\"matchcode\"] == \"approximate\", \"low accuracy\", \"No match accuracy\")\n",
    "    )\n",
    "\n",
    "    return final_df"
   ]
  },
  {
   "cell_type": "code",
   "execution_count": 0,
   "metadata": {
    "application/vnd.databricks.v1+cell": {
     "cellMetadata": {
      "byteLimit": 2048000,
      "rowLimit": 10000
     },
     "inputWidgets": {},
     "nuid": "82117a26-6582-4111-a603-25f66ed89781",
     "showTitle": false,
     "tableResultSettingsMap": {},
     "title": ""
    }
   },
   "outputs": [
    {
     "name": "stdout",
     "output_type": "stream",
     "text": [
      "Processing batch 1/10 ...\n",
      "Processing batch 2/10 ...\n",
      "Processing batch 3/10 ...\n",
      "Processing batch 4/10 ...\n",
      "Processing batch 5/10 ...\n",
      "Processing batch 6/10 ...\n",
      "Processing batch 7/10 ...\n",
      "Processing batch 8/10 ...\n",
      "Processing batch 9/10 ...\n",
      "Processing batch 10/10 ...\n"
     ]
    }
   ],
   "source": [
    "final_df = batch_geocode(df, \"gb\", 100)"
   ]
  },
  {
   "cell_type": "markdown",
   "metadata": {
    "application/vnd.databricks.v1+cell": {
     "cellMetadata": {},
     "inputWidgets": {},
     "nuid": "a509bb78-7457-47de-b17e-e06ef9cf431c",
     "showTitle": false,
     "tableResultSettingsMap": {},
     "title": ""
    }
   },
   "source": [
    "## Geolocation Evaluation Success\n",
    "Lets have a look at how many unique locations we could not geolocate (because the location is too 'dirty')"
   ]
  },
  {
   "cell_type": "code",
   "execution_count": 0,
   "metadata": {
    "application/vnd.databricks.v1+cell": {
     "cellMetadata": {
      "byteLimit": 2048000,
      "rowLimit": 10000
     },
     "inputWidgets": {},
     "nuid": "0cf4d525-2555-4d31-a0dd-899e8006cb0c",
     "showTitle": false,
     "tableResultSettingsMap": {},
     "title": ""
    }
   },
   "outputs": [
    {
     "name": "stdout",
     "output_type": "stream",
     "text": [
      "Percentage of locations that could be geolocated: 92.70%\n"
     ]
    }
   ],
   "source": [
    "total_rows = final_df.shape[0]\n",
    "geolocated_count = (final_df[\"country_code\"] != \"No address element\").sum()\n",
    "pct_geolocated = (geolocated_count / total_rows) * 100\n",
    "print(f\"Percentage of locations that could be geolocated: {pct_geolocated:.2f}%\")"
   ]
  },
  {
   "cell_type": "markdown",
   "metadata": {
    "application/vnd.databricks.v1+cell": {
     "cellMetadata": {},
     "inputWidgets": {},
     "nuid": "90af2fa0-1c29-4e1e-9cd1-5e284d0c36a7",
     "showTitle": false,
     "tableResultSettingsMap": {},
     "title": ""
    }
   },
   "source": [
    "## Geolocation Evaluation Success\n",
    "What about the popularity of address elements in the UK?"
   ]
  },
  {
   "cell_type": "code",
   "execution_count": 0,
   "metadata": {
    "application/vnd.databricks.v1+cell": {
     "cellMetadata": {
      "byteLimit": 2048000,
      "rowLimit": 10000
     },
     "inputWidgets": {},
     "nuid": "cf2a5a59-418e-4c54-b088-f0a1a0a611af",
     "showTitle": false,
     "tableResultSettingsMap": {},
     "title": ""
    }
   },
   "outputs": [
    {
     "data": {
      "image/png": "[encoded data removed]",
      "text/plain": [
       "<Figure size 1000x600 with 1 Axes>"
      ]
     },
     "metadata": {},
     "output_type": "display_data"
    }
   ],
   "source": [
    "import matplotlib.pyplot as plt\n",
    "\n",
    "# Compute success percentages for each address element\n",
    "success_data = {}\n",
    "for element in address_elements:\n",
    "    success_count = (final_df[element] != \"No address element\").sum()\n",
    "    success_percentage = (success_count / total_rows) * 100\n",
    "    success_data[element] = success_percentage\n",
    "\n",
    "# Convert the dictionary to a Series and sort descending (highest success % at top)\n",
    "success_series = pd.Series(success_data).sort_values(ascending=False)\n",
    "\n",
    "# Plot a horizontal bar chart\n",
    "plt.figure(figsize=(10, 6))\n",
    "bars = plt.barh(success_series.index, success_series.values, color='skyblue')\n",
    "plt.xlabel(\"Success Percentage (%)\")\n",
    "plt.title(\"Geocoding Success Percentage by Address Element\")\n",
    "plt.xlim(0, 100)  # Since it's a percentage scale\n",
    "plt.gca().invert_yaxis()  # Highest values on top\n",
    "# Add labels to each bar\n",
    "for bar in bars:\n",
    "    width = bar.get_width()\n",
    "    plt.text(width + 1, bar.get_y() + bar.get_height() / 2, f'{width:.1f}%', va='center')\n",
    "plt.tight_layout()\n",
    "plt.show()"
   ]
  },
  {
   "cell_type": "markdown",
   "metadata": {
    "application/vnd.databricks.v1+cell": {
     "cellMetadata": {},
     "inputWidgets": {},
     "nuid": "4c3534fe-4783-4b77-bd03-c66b29751c45",
     "showTitle": false,
     "tableResultSettingsMap": {},
     "title": ""
    }
   },
   "source": [
    "## Final insights\n",
    "With our location data now thoroughly cleaned and structured, we are ready to leverage for further analysis. Specifically, we can::\n",
    "\n",
    "- **Enrich Job Descriptions:**  \n",
    "  Update the original job description records by linking them to our table of unique, geocoded locations. This ensures every job posting is associated with a precise, standardized location.\n",
    "\n",
    "- **Perform Granular Analyses:**  \n",
    "  Dive deep into location-specific insights by analyzing various address elements—such as state, city, county, and postcode—to uncover regional trends and patterns."
   ]
  }
 ],
 "metadata": {
  "application/vnd.databricks.v1+notebook": {
   "computePreferences": null,
   "dashboards": [],
   "environmentMetadata": null,
   "language": "python",
   "notebookMetadata": {
    "mostRecentlyExecutedCommandWithImplicitDF": {
     "commandId": 2941679519471481,
     "dataframes": [
      "_sqldf"
     ]
    },
    "pythonIndentUnit": 4
   },
   "notebookName": "(Clone) (git) Location normalisation with Geolocation API",
   "widgets": {}
  },
  "language_info": {
   "name": "python"
  }
 },
 "nbformat": 4,
 "nbformat_minor": 0
}
