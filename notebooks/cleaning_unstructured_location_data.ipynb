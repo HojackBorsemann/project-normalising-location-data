{
 "cells": [
  {
   "cell_type": "markdown",
   "metadata": {
    "application/vnd.databricks.v1+cell": {
     "cellMetadata": {},
     "inputWidgets": {},
     "nuid": "f7782d55-c69e-496d-93a2-7c24977c4010",
     "showTitle": false,
     "tableResultSettingsMap": {},
     "title": ""
    }
   },
   "source": [
    "## Setup notebook"
   ]
  },
  {
   "cell_type": "code",
   "execution_count": 0,
   "metadata": {
    "application/vnd.databricks.v1+cell": {
     "cellMetadata": {
      "byteLimit": 2048000,
      "rowLimit": 10000
     },
     "inputWidgets": {},
     "nuid": "f5f52b51-823f-4313-83ed-0a7de31474e7",
     "showTitle": false,
     "tableResultSettingsMap": {},
     "title": ""
    }
   },
   "outputs": [],
   "source": [
    "# Core\n",
    "import requests\n",
    "import re\n",
    "import warnings\n",
    "import logging\n",
    "\n",
    "# Data handling\n",
    "import pandas as pd"
   ]
  },
  {
   "cell_type": "markdown",
   "metadata": {
    "application/vnd.databricks.v1+cell": {
     "cellMetadata": {
      "byteLimit": 2048000,
      "rowLimit": 10000
     },
     "inputWidgets": {},
     "nuid": "83e5e859-b95e-4944-87f3-6eacd2f37861",
     "showTitle": false,
     "tableResultSettingsMap": {},
     "title": ""
    }
   },
   "source": [
    "### For illustrative purposes, we'll look at a sample dataset of 10,000 UK jobs scraped from Q4 2024 below\n",
    "Notice we can already see how the location data is 'dirty' in terms of:\n",
    "- **Inconsistent format**: How specific a job's location is varies e.g. 'London' vs 'London, GB, W1A 1AA'\n",
    "- **Multiple locations advertised**: Some jobs hire for multiple locations. We'll need to handle these by exploding them into seperate rows, to each be geolocated, then merge back together e.g. 'LUTON AIRPORT, UK | SOUTHAMPTON INTL AIRPORT, UK' \n",
    "- **Unnecesary words dirtying up location:** Words like 'hybrid' are often in location fields within job descriptions. We'll need to do some regex to handle these e.g. 'Hybrid - Crawley | Hybrid - Reading'"
   ]
  },
  {
   "cell_type": "code",
   "execution_count": 0,
   "metadata": {
    "application/vnd.databricks.v1+cell": {
     "cellMetadata": {
      "byteLimit": 2048000,
      "rowLimit": 10000
     },
     "inputWidgets": {},
     "nuid": "8c0b1f2e-3dae-4547-b327-325d2788be89",
     "showTitle": false,
     "tableResultSettingsMap": {},
     "title": ""
    }
   },
   "outputs": [
    {
     "output_type": "execute_result",
     "data": {
      "text/html": [
       "<div>\n",
       "<style scoped>\n",
       "    .dataframe tbody tr th:only-of-type {\n",
       "        vertical-align: middle;\n",
       "    }\n",
       "\n",
       "    .dataframe tbody tr th {\n",
       "        vertical-align: top;\n",
       "    }\n",
       "\n",
       "    .dataframe thead th {\n",
       "        text-align: right;\n",
       "    }\n",
       "</style>\n",
       "<table border=\"1\" class=\"dataframe\">\n",
       "  <thead>\n",
       "    <tr style=\"text-align: right;\">\n",
       "      <th></th>\n",
       "      <th>id</th>\n",
       "      <th>location</th>\n",
       "    </tr>\n",
       "  </thead>\n",
       "  <tbody>\n",
       "    <tr>\n",
       "      <th>0</th>\n",
       "      <td>13629709</td>\n",
       "      <td>London</td>\n",
       "    </tr>\n",
       "    <tr>\n",
       "      <th>1</th>\n",
       "      <td>12872996</td>\n",
       "      <td>London, GB, W1A 1AA</td>\n",
       "    </tr>\n",
       "    <tr>\n",
       "      <th>2</th>\n",
       "      <td>12045332</td>\n",
       "      <td>LUTON AIRPORT, UK | SOUTHAMPTON INTL AIRPORT, UK | NORTHOLT, UK | ...</td>\n",
       "    </tr>\n",
       "    <tr>\n",
       "      <th>3</th>\n",
       "      <td>9468938</td>\n",
       "      <td>116/118 Market Street St Andrews, United Kingdom</td>\n",
       "    </tr>\n",
       "    <tr>\n",
       "      <th>4</th>\n",
       "      <td>11085160</td>\n",
       "      <td>Hybrid - Crawley | Hybrid - Reading | Hybrid - Cheadle | Hybrid - ...</td>\n",
       "    </tr>\n",
       "  </tbody>\n",
       "</table>\n",
       "</div>"
      ],
      "text/plain": [
       "         id                                                               location\n",
       "0  13629709                                                                 London\n",
       "1  12872996                                                    London, GB, W1A 1AA\n",
       "2  12045332  LUTON AIRPORT, UK | SOUTHAMPTON INTL AIRPORT, UK | NORTHOLT, UK | ...\n",
       "3   9468938                       116/118 Market Street St Andrews, United Kingdom\n",
       "4  11085160  Hybrid - Crawley | Hybrid - Reading | Hybrid - Cheadle | Hybrid - ..."
      ]
     },
     "execution_count": 66,
     "metadata": {},
     "output_type": "execute_result"
    }
   ],
   "source": [
    "df = pd.read_csv('/git1.csv')\n",
    "df.head(5)"
   ]
  },
  {
   "cell_type": "markdown",
   "metadata": {
    "application/vnd.databricks.v1+cell": {
     "cellMetadata": {
      "byteLimit": 2048000,
      "rowLimit": 10000
     },
     "inputWidgets": {},
     "nuid": "f41a28ae-018f-4def-9ec9-f761b9e8e9a1",
     "showTitle": false,
     "tableResultSettingsMap": {},
     "title": ""
    }
   },
   "source": [
    "\n",
    "## Dataset manipulation to clean location data, starting with removing common words that 'dirty' up the location data"
   ]
  },
  {
   "cell_type": "code",
   "execution_count": 0,
   "metadata": {
    "application/vnd.databricks.v1+cell": {
     "cellMetadata": {
      "byteLimit": 2048000,
      "rowLimit": 10000
     },
     "inputWidgets": {},
     "nuid": "67724329-c9cc-4f0a-900c-a68abc0a3e80",
     "showTitle": false,
     "tableResultSettingsMap": {},
     "title": ""
    }
   },
   "outputs": [],
   "source": [
    "# Removing words in the 'location' column that will confuse the LocationIQ API if not removed now\n",
    "df[\"location\"] = df[\"location\"].str.replace(\n",
    "    \"remote|location|locations|multiple location|multiple locations|offsite|work from home|flexible|virtual|full time|part time|full-time|part-time|hybrid|-\",\n",
    "    \"\",\n",
    "    regex=True,\n",
    "    flags=re.IGNORECASE\n",
    ")\n",
    "\n",
    "# Removing brackets only if they contain 'store' wording. Most bracket text contains useful location info for the API's accuracy, so we're keeping those\n",
    "# Regular expression pattern to match text within parentheses\n",
    "pattern = r\"\\(.*?\\)\"  \n",
    "df[\"location\"] = df[\"location\"].apply(\n",
    "    lambda x: re.sub(pattern, \"\", x) if \"store\" in x.lower() else x\n",
    ")"
   ]
  },
  {
   "cell_type": "markdown",
   "metadata": {
    "application/vnd.databricks.v1+cell": {
     "cellMetadata": {},
     "inputWidgets": {},
     "nuid": "274dfa6f-9d0f-4ae9-b33c-1a234d0fb590",
     "showTitle": false,
     "tableResultSettingsMap": {},
     "title": ""
    }
   },
   "source": [
    "## Handle situations where **multiples locations are advertised**"
   ]
  },
  {
   "cell_type": "code",
   "execution_count": 0,
   "metadata": {
    "application/vnd.databricks.v1+cell": {
     "cellMetadata": {
      "byteLimit": 2048000,
      "rowLimit": 10000
     },
     "inputWidgets": {},
     "nuid": "f803b201-7008-492e-859d-e1be1452a61e",
     "showTitle": false,
     "tableResultSettingsMap": {},
     "title": ""
    }
   },
   "outputs": [],
   "source": [
    "# Splitting up locations by '|', ';', '•' as they are actually multiple differnet locations, then process each location as it's own row. Without this,  API cannot tell it contains multiple different locations\n",
    "df[\"location\"] = df[\"location\"].str.split(r\"[\\|;•]\")\n",
    "df = df.explode(\"location\").reset_index(drop=True)\n",
    "\n",
    "\n",
    "# final bit of cleaning\n",
    "# Drop nan values and empty string values\n",
    "df[\"location\"].replace(\"\", np.nan, inplace=True)\n",
    "df.dropna(subset=[\"location\"], inplace=True)\n",
    "df.drop(df.index[df[\"location\"] == \"\"], inplace=True)\n",
    "\n",
    "# Removing leading & trailing whitespace\n",
    "df[\"location\"] = df[\"location\"].str.strip()"
   ]
  },
  {
   "cell_type": "markdown",
   "metadata": {
    "application/vnd.databricks.v1+cell": {
     "cellMetadata": {},
     "inputWidgets": {},
     "nuid": "3214d535-f2b5-4069-a642-1428307be754",
     "showTitle": false,
     "tableResultSettingsMap": {},
     "title": ""
    }
   },
   "source": [
    "## Now our 'location' field is much cleaner!"
   ]
  },
  {
   "cell_type": "code",
   "execution_count": 0,
   "metadata": {
    "application/vnd.databricks.v1+cell": {
     "cellMetadata": {
      "byteLimit": 2048000,
      "rowLimit": 10000
     },
     "inputWidgets": {},
     "nuid": "c0343453-8df0-4f18-ae45-c261b89c535e",
     "showTitle": false,
     "tableResultSettingsMap": {},
     "title": ""
    }
   },
   "outputs": [
    {
     "output_type": "execute_result",
     "data": {
      "text/html": [
       "<div>\n",
       "<style scoped>\n",
       "    .dataframe tbody tr th:only-of-type {\n",
       "        vertical-align: middle;\n",
       "    }\n",
       "\n",
       "    .dataframe tbody tr th {\n",
       "        vertical-align: top;\n",
       "    }\n",
       "\n",
       "    .dataframe thead th {\n",
       "        text-align: right;\n",
       "    }\n",
       "</style>\n",
       "<table border=\"1\" class=\"dataframe\">\n",
       "  <thead>\n",
       "    <tr style=\"text-align: right;\">\n",
       "      <th></th>\n",
       "      <th>id</th>\n",
       "      <th>location</th>\n",
       "    </tr>\n",
       "  </thead>\n",
       "  <tbody>\n",
       "    <tr>\n",
       "      <th>0</th>\n",
       "      <td>13629709</td>\n",
       "      <td>London</td>\n",
       "    </tr>\n",
       "    <tr>\n",
       "      <th>1</th>\n",
       "      <td>12872996</td>\n",
       "      <td>London, GB, W1A 1AA</td>\n",
       "    </tr>\n",
       "    <tr>\n",
       "      <th>2</th>\n",
       "      <td>12045332</td>\n",
       "      <td>LUTON AIRPORT, UK</td>\n",
       "    </tr>\n",
       "    <tr>\n",
       "      <th>3</th>\n",
       "      <td>12045332</td>\n",
       "      <td>SOUTHAMPTON INTL AIRPORT, UK</td>\n",
       "    </tr>\n",
       "    <tr>\n",
       "      <th>4</th>\n",
       "      <td>12045332</td>\n",
       "      <td>NORTHOLT, UK</td>\n",
       "    </tr>\n",
       "    <tr>\n",
       "      <th>5</th>\n",
       "      <td>12045332</td>\n",
       "      <td>United Kingdom</td>\n",
       "    </tr>\n",
       "    <tr>\n",
       "      <th>6</th>\n",
       "      <td>9468938</td>\n",
       "      <td>116/118 Market Street St Andrews, United Kingdom</td>\n",
       "    </tr>\n",
       "    <tr>\n",
       "      <th>7</th>\n",
       "      <td>11085160</td>\n",
       "      <td>Crawley</td>\n",
       "    </tr>\n",
       "    <tr>\n",
       "      <th>8</th>\n",
       "      <td>11085160</td>\n",
       "      <td>Reading</td>\n",
       "    </tr>\n",
       "    <tr>\n",
       "      <th>9</th>\n",
       "      <td>11085160</td>\n",
       "      <td>Cheadle</td>\n",
       "    </tr>\n",
       "  </tbody>\n",
       "</table>\n",
       "</div>"
      ],
      "text/plain": [
       "         id                                          location\n",
       "0  13629709                                            London\n",
       "1  12872996                               London, GB, W1A 1AA\n",
       "2  12045332                                 LUTON AIRPORT, UK\n",
       "3  12045332                      SOUTHAMPTON INTL AIRPORT, UK\n",
       "4  12045332                                      NORTHOLT, UK\n",
       "5  12045332                                    United Kingdom\n",
       "6   9468938  116/118 Market Street St Andrews, United Kingdom\n",
       "7  11085160                                           Crawley\n",
       "8  11085160                                           Reading\n",
       "9  11085160                                           Cheadle"
      ]
     },
     "execution_count": 70,
     "metadata": {},
     "output_type": "execute_result"
    }
   ],
   "source": [
    "df.head(10)"
   ]
  },
  {
   "cell_type": "markdown",
   "metadata": {
    "application/vnd.databricks.v1+cell": {
     "cellMetadata": {},
     "inputWidgets": {},
     "nuid": "14a75cca-0bdd-4e20-9c43-0e9abec72c9e",
     "showTitle": false,
     "tableResultSettingsMap": {},
     "title": ""
    }
   },
   "source": [
    "## Final step is to drop duplicates of the 'location' column\n",
    "Since we're interfacing with the LocationIQ API—where each API call incurs cost and latency — **we need to minimize redundant requests by ensuring we only query unique locations**"
   ]
  },
  {
   "cell_type": "code",
   "execution_count": 0,
   "metadata": {
    "application/vnd.databricks.v1+cell": {
     "cellMetadata": {
      "byteLimit": 2048000,
      "rowLimit": 10000
     },
     "inputWidgets": {},
     "nuid": "57d25414-2c57-4d63-a188-a392174082c1",
     "showTitle": false,
     "tableResultSettingsMap": {},
     "title": ""
    }
   },
   "outputs": [],
   "source": [
    "# Save the original dataset before removing duplicate locations, so we can later link geolocated addresses back to each ID\n",
    "original_dataset_path = \"/df_original.csv\"\n",
    "df.to_csv(original_dataset_path, index=False)\n",
    "\n",
    "# Drop duplicate locations to reduce redundant API calls, and remove the 'id' column as it's no longer needed.\n",
    "df_no_duplicates = df.drop_duplicates(subset=[\"location\"]).drop(\"id\", axis=1)\n",
    "\n",
    "# Save and proceed with geolocation\n",
    "df_no_duplicates.to_csv('/no_duplicates.csv', index=False)"
   ]
  }
 ],
 "metadata": {
  "application/vnd.databricks.v1+notebook": {
   "computePreferences": null,
   "dashboards": [],
   "environmentMetadata": null,
   "language": "python",
   "notebookMetadata": {
    "mostRecentlyExecutedCommandWithImplicitDF": {
     "commandId": 2941679519471481,
     "dataframes": [
      "_sqldf"
     ]
    },
    "pythonIndentUnit": 4
   },
   "notebookName": "(Clone) (git) Cleaning unstructured location data",
   "widgets": {}
  },
  "language_info": {
   "name": "python"
  }
 },
 "nbformat": 4,
 "nbformat_minor": 0
}