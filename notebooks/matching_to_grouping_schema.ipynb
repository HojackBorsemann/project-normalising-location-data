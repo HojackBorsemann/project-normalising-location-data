{
 "cells": [
  {
   "cell_type": "markdown",
   "metadata": {
    "application/vnd.databricks.v1+cell": {
     "cellMetadata": {
      "byteLimit": 2048000,
      "rowLimit": 10000
     },
     "inputWidgets": {},
     "nuid": "5466365e-0349-4e6c-9e28-2f3f7e5f1d33",
     "showTitle": false,
     "tableResultSettingsMap": {},
     "title": ""
    }
   },
   "source": [
    "## Setup notebook"
   ]
  },
  {
   "cell_type": "code",
   "execution_count": 0,
   "metadata": {
    "application/vnd.databricks.v1+cell": {
     "cellMetadata": {
      "byteLimit": 2048000,
      "rowLimit": 10000
     },
     "inputWidgets": {},
     "nuid": "f5f52b51-823f-4313-83ed-0a7de31474e7",
     "showTitle": false,
     "tableResultSettingsMap": {},
     "title": ""
    }
   },
   "outputs": [],
   "source": [
    "import pandas as pd\n",
    "import numpy as np\n",
    "import scipy.spatial\n",
    "import re\n",
    "import warnings\n",
    "import logging"
   ]
  },
  {
   "cell_type": "markdown",
   "metadata": {
    "application/vnd.databricks.v1+cell": {
     "cellMetadata": {},
     "inputWidgets": {},
     "nuid": "71d6a5b0-0d6e-44b3-b88d-bbcb89e40f6b",
     "showTitle": false,
     "tableResultSettingsMap": {},
     "title": ""
    }
   },
   "source": [
    "## Load in locations that have already been through geolocation and now we want to create a read-across with an internal location grouping called 'RDI Lens'"
   ]
  },
  {
   "cell_type": "code",
   "execution_count": 0,
   "metadata": {
    "application/vnd.databricks.v1+cell": {
     "cellMetadata": {
      "byteLimit": 2048000,
      "rowLimit": 10000
     },
     "inputWidgets": {},
     "nuid": "dd11b532-9586-47dc-8656-650995bbb023",
     "showTitle": false,
     "tableResultSettingsMap": {},
     "title": ""
    }
   },
   "outputs": [
    {
     "output_type": "execute_result",
     "data": {
      "text/html": [
       "<div>\n",
       "<style scoped>\n",
       "    .dataframe tbody tr th:only-of-type {\n",
       "        vertical-align: middle;\n",
       "    }\n",
       "\n",
       "    .dataframe tbody tr th {\n",
       "        vertical-align: top;\n",
       "    }\n",
       "\n",
       "    .dataframe thead th {\n",
       "        text-align: right;\n",
       "    }\n",
       "</style>\n",
       "<table border=\"1\" class=\"dataframe\">\n",
       "  <thead>\n",
       "    <tr style=\"text-align: right;\">\n",
       "      <th></th>\n",
       "      <th>location</th>\n",
       "      <th>geocoded_address</th>\n",
       "      <th>geocoding_function</th>\n",
       "      <th>latitude, longitude</th>\n",
       "      <th>matchcode</th>\n",
       "      <th>matchtype</th>\n",
       "      <th>LocationIQ_potential_locations</th>\n",
       "      <th>name</th>\n",
       "      <th>house_number</th>\n",
       "      <th>road</th>\n",
       "      <th>neighbourhood</th>\n",
       "      <th>suburb</th>\n",
       "      <th>island</th>\n",
       "      <th>city</th>\n",
       "      <th>county</th>\n",
       "      <th>state</th>\n",
       "      <th>state_code</th>\n",
       "      <th>postcode</th>\n",
       "      <th>country</th>\n",
       "      <th>country_code</th>\n",
       "      <th>match accuracy</th>\n",
       "    </tr>\n",
       "  </thead>\n",
       "  <tbody>\n",
       "    <tr>\n",
       "      <th>0</th>\n",
       "      <td>London</td>\n",
       "      <td>{'latitude': '51.5074456', 'longitude': '-0.1277653', 'matchcode':...</td>\n",
       "      <td>within countrycodes</td>\n",
       "      <td>51.5074456, -0.1277653</td>\n",
       "      <td>exact</td>\n",
       "      <td>centroid</td>\n",
       "      <td>8</td>\n",
       "      <td>No address element</td>\n",
       "      <td>No address element</td>\n",
       "      <td>No address element</td>\n",
       "      <td>No address element</td>\n",
       "      <td>No address element</td>\n",
       "      <td>No address element</td>\n",
       "      <td>London</td>\n",
       "      <td>No address element</td>\n",
       "      <td>England</td>\n",
       "      <td>No address element</td>\n",
       "      <td>No address element</td>\n",
       "      <td>United Kingdom</td>\n",
       "      <td>gb</td>\n",
       "      <td>high accuracy</td>\n",
       "    </tr>\n",
       "    <tr>\n",
       "      <th>1</th>\n",
       "      <td>London, GB, W1A 1AA</td>\n",
       "      <td>{'latitude': '51.5074456', 'longitude': '-0.1277653', 'matchcode':...</td>\n",
       "      <td>within countrycodes</td>\n",
       "      <td>51.5074456, -0.1277653</td>\n",
       "      <td>exact</td>\n",
       "      <td>centroid</td>\n",
       "      <td>4</td>\n",
       "      <td>No address element</td>\n",
       "      <td>No address element</td>\n",
       "      <td>No address element</td>\n",
       "      <td>No address element</td>\n",
       "      <td>No address element</td>\n",
       "      <td>No address element</td>\n",
       "      <td>London</td>\n",
       "      <td>No address element</td>\n",
       "      <td>England</td>\n",
       "      <td>No address element</td>\n",
       "      <td>No address element</td>\n",
       "      <td>United Kingdom</td>\n",
       "      <td>gb</td>\n",
       "      <td>high accuracy</td>\n",
       "    </tr>\n",
       "    <tr>\n",
       "      <th>2</th>\n",
       "      <td>LUTON AIRPORT, UK</td>\n",
       "      <td>{'latitude': '51.87810155', 'longitude': '-0.36642547440865236', '...</td>\n",
       "      <td>within countrycodes</td>\n",
       "      <td>51.87810155, -0.36642547440865236</td>\n",
       "      <td>approximate</td>\n",
       "      <td>point</td>\n",
       "      <td>2</td>\n",
       "      <td>London Luton Airport</td>\n",
       "      <td>No address element</td>\n",
       "      <td>Chiltern Green</td>\n",
       "      <td>No address element</td>\n",
       "      <td>Hyde</td>\n",
       "      <td>No address element</td>\n",
       "      <td>Chiltern Green</td>\n",
       "      <td>Central Bedfordshire</td>\n",
       "      <td>England</td>\n",
       "      <td>No address element</td>\n",
       "      <td>LU2 9LY</td>\n",
       "      <td>United Kingdom</td>\n",
       "      <td>gb</td>\n",
       "      <td>low accuracy</td>\n",
       "    </tr>\n",
       "    <tr>\n",
       "      <th>3</th>\n",
       "      <td>NORTHOLT, UK</td>\n",
       "      <td>{'latitude': '51.5484582', 'longitude': '-0.3695247', 'matchcode':...</td>\n",
       "      <td>within countrycodes</td>\n",
       "      <td>51.5484582, -0.3695247</td>\n",
       "      <td>approximate</td>\n",
       "      <td>point</td>\n",
       "      <td>6</td>\n",
       "      <td>Northolt</td>\n",
       "      <td>No address element</td>\n",
       "      <td>Mandeville Road</td>\n",
       "      <td>No address element</td>\n",
       "      <td>No address element</td>\n",
       "      <td>No address element</td>\n",
       "      <td>London</td>\n",
       "      <td>No address element</td>\n",
       "      <td>England</td>\n",
       "      <td>No address element</td>\n",
       "      <td>UB5 4AA</td>\n",
       "      <td>United Kingdom</td>\n",
       "      <td>gb</td>\n",
       "      <td>low accuracy</td>\n",
       "    </tr>\n",
       "    <tr>\n",
       "      <th>4</th>\n",
       "      <td>United Kingdom</td>\n",
       "      <td>{'latitude': '54.7023545', 'longitude': '-3.2765753', 'matchcode':...</td>\n",
       "      <td>within countrycodes</td>\n",
       "      <td>54.7023545, -3.2765753</td>\n",
       "      <td>exact</td>\n",
       "      <td>centroid</td>\n",
       "      <td>2</td>\n",
       "      <td>No address element</td>\n",
       "      <td>No address element</td>\n",
       "      <td>No address element</td>\n",
       "      <td>No address element</td>\n",
       "      <td>No address element</td>\n",
       "      <td>No address element</td>\n",
       "      <td>No address element</td>\n",
       "      <td>No address element</td>\n",
       "      <td>No address element</td>\n",
       "      <td>No address element</td>\n",
       "      <td>No address element</td>\n",
       "      <td>United Kingdom</td>\n",
       "      <td>gb</td>\n",
       "      <td>high accuracy</td>\n",
       "    </tr>\n",
       "  </tbody>\n",
       "</table>\n",
       "</div>"
      ],
      "text/plain": [
       "              location  ... match accuracy\n",
       "0               London  ...  high accuracy\n",
       "1  London, GB, W1A 1AA  ...  high accuracy\n",
       "2    LUTON AIRPORT, UK  ...   low accuracy\n",
       "3         NORTHOLT, UK  ...   low accuracy\n",
       "4       United Kingdom  ...  high accuracy\n",
       "\n",
       "[5 rows x 21 columns]"
      ]
     },
     "execution_count": 73,
     "metadata": {},
     "output_type": "execute_result"
    }
   ],
   "source": [
    "df = pd.read_csv(\"/final_df_geolocated.csv\")\n",
    "df.head(5)"
   ]
  },
  {
   "cell_type": "markdown",
   "metadata": {
    "application/vnd.databricks.v1+cell": {
     "cellMetadata": {
      "byteLimit": 2048000,
      "rowLimit": 10000
     },
     "inputWidgets": {},
     "nuid": "43f694cf-a4aa-4f5b-bab9-7dffaa7089c2",
     "showTitle": false,
     "tableResultSettingsMap": {},
     "title": ""
    }
   },
   "source": [
    "### Pull in a pre-constructed table that acts as a read-across, allowing us to allocate every geolocated UK location a RDI lens grouping\n",
    "We use this second dataframe as part of a .merge() to pull-across the 'Area/City Code' to the original df dataframe"
   ]
  },
  {
   "cell_type": "code",
   "execution_count": 0,
   "metadata": {
    "application/vnd.databricks.v1+cell": {
     "cellMetadata": {
      "byteLimit": 2048000,
      "rowLimit": 10000
     },
     "inputWidgets": {},
     "nuid": "eca66e6a-ad91-4b3b-9c15-db6888a91e80",
     "showTitle": false,
     "tableResultSettingsMap": {},
     "title": ""
    }
   },
   "outputs": [
    {
     "output_type": "execute_result",
     "data": {
      "text/html": [
       "<div>\n",
       "<style scoped>\n",
       "    .dataframe tbody tr th:only-of-type {\n",
       "        vertical-align: middle;\n",
       "    }\n",
       "\n",
       "    .dataframe tbody tr th {\n",
       "        vertical-align: top;\n",
       "    }\n",
       "\n",
       "    .dataframe thead th {\n",
       "        text-align: right;\n",
       "    }\n",
       "</style>\n",
       "<table border=\"1\" class=\"dataframe\">\n",
       "  <thead>\n",
       "    <tr style=\"text-align: right;\">\n",
       "      <th></th>\n",
       "      <th>RDI City</th>\n",
       "      <th>latitude, longitude</th>\n",
       "      <th>RDI grouping - region/nation</th>\n",
       "      <th>Area/City Code</th>\n",
       "      <th>Country</th>\n",
       "      <th>Region</th>\n",
       "      <th>Country Code</th>\n",
       "      <th>Currency Code</th>\n",
       "      <th>Currency Name</th>\n",
       "    </tr>\n",
       "  </thead>\n",
       "  <tbody>\n",
       "    <tr>\n",
       "      <th>0</th>\n",
       "      <td>London</td>\n",
       "      <td>51.5074456, -0.1277653</td>\n",
       "      <td>London</td>\n",
       "      <td>GB001/GB002</td>\n",
       "      <td>United Kingdom</td>\n",
       "      <td>Western Europe</td>\n",
       "      <td>GBR</td>\n",
       "      <td>GBP</td>\n",
       "      <td>United Kingdom Pound</td>\n",
       "    </tr>\n",
       "    <tr>\n",
       "      <th>1</th>\n",
       "      <td>Westminster</td>\n",
       "      <td>51.5004439, -0.1265398</td>\n",
       "      <td>London</td>\n",
       "      <td>GB001/GB002</td>\n",
       "      <td>United Kingdom</td>\n",
       "      <td>Western Europe</td>\n",
       "      <td>GBR</td>\n",
       "      <td>GBP</td>\n",
       "      <td>United Kingdom Pound</td>\n",
       "    </tr>\n",
       "    <tr>\n",
       "      <th>2</th>\n",
       "      <td>Bedfordshire</td>\n",
       "      <td>52.064003400000004, -0.41111375560310925</td>\n",
       "      <td>South East</td>\n",
       "      <td>GB003</td>\n",
       "      <td>United Kingdom</td>\n",
       "      <td>Western Europe</td>\n",
       "      <td>GBR</td>\n",
       "      <td>GBP</td>\n",
       "      <td>United Kingdom Pound</td>\n",
       "    </tr>\n",
       "    <tr>\n",
       "      <th>3</th>\n",
       "      <td>Berkshire</td>\n",
       "      <td>51.453488899999996, -1.0318729593399247</td>\n",
       "      <td>South East</td>\n",
       "      <td>GB003</td>\n",
       "      <td>United Kingdom</td>\n",
       "      <td>Western Europe</td>\n",
       "      <td>GBR</td>\n",
       "      <td>GBP</td>\n",
       "      <td>United Kingdom Pound</td>\n",
       "    </tr>\n",
       "    <tr>\n",
       "      <th>4</th>\n",
       "      <td>Brighton &amp; Hove</td>\n",
       "      <td>50.8214626, -0.1400561</td>\n",
       "      <td>South East</td>\n",
       "      <td>GB003</td>\n",
       "      <td>United Kingdom</td>\n",
       "      <td>Western Europe</td>\n",
       "      <td>GBR</td>\n",
       "      <td>GBP</td>\n",
       "      <td>United Kingdom Pound</td>\n",
       "    </tr>\n",
       "  </tbody>\n",
       "</table>\n",
       "</div>"
      ],
      "text/plain": [
       "          RDI City  ...         Currency Name\n",
       "0           London  ...  United Kingdom Pound\n",
       "1      Westminster  ...  United Kingdom Pound\n",
       "2     Bedfordshire  ...  United Kingdom Pound\n",
       "3        Berkshire  ...  United Kingdom Pound\n",
       "4  Brighton & Hove  ...  United Kingdom Pound\n",
       "\n",
       "[5 rows x 9 columns]"
      ]
     },
     "execution_count": 92,
     "metadata": {},
     "output_type": "execute_result"
    }
   ],
   "source": [
    "uk_city_grouping = pd.read_csv(\"/uk_rdi_grouping.csv\")\n",
    "uk_city_grouping.head(5)"
   ]
  },
  {
   "cell_type": "markdown",
   "metadata": {
    "application/vnd.databricks.v1+cell": {
     "cellMetadata": {
      "byteLimit": 2048000,
      "rowLimit": 10000
     },
     "inputWidgets": {},
     "nuid": "474b20a3-c647-4d57-89b3-4c8b65c83e0d",
     "showTitle": false,
     "tableResultSettingsMap": {},
     "title": ""
    }
   },
   "source": [
    "## To have a successfull .merge(), we need all rows within df to have a key (city)\n",
    "But not all locations have a 'city'. For those that do not, we are allocating them an **\"approximate city\" based on their latitutde & longitude, matching to the nearest city**"
   ]
  },
  {
   "cell_type": "code",
   "execution_count": 0,
   "metadata": {
    "application/vnd.databricks.v1+cell": {
     "cellMetadata": {
      "byteLimit": 2048000,
      "rowLimit": 10000
     },
     "inputWidgets": {},
     "nuid": "427c9558-f982-485b-aeac-96bc20dbd033",
     "showTitle": false,
     "tableResultSettingsMap": {},
     "title": ""
    }
   },
   "outputs": [
    {
     "output_type": "execute_result",
     "data": {
      "text/html": [
       "<div>\n",
       "<style scoped>\n",
       "    .dataframe tbody tr th:only-of-type {\n",
       "        vertical-align: middle;\n",
       "    }\n",
       "\n",
       "    .dataframe tbody tr th {\n",
       "        vertical-align: top;\n",
       "    }\n",
       "\n",
       "    .dataframe thead th {\n",
       "        text-align: right;\n",
       "    }\n",
       "</style>\n",
       "<table border=\"1\" class=\"dataframe\">\n",
       "  <thead>\n",
       "    <tr style=\"text-align: right;\">\n",
       "      <th></th>\n",
       "      <th>location</th>\n",
       "      <th>geocoded_address</th>\n",
       "      <th>geocoding_function</th>\n",
       "      <th>latitude, longitude</th>\n",
       "      <th>matchcode</th>\n",
       "      <th>matchtype</th>\n",
       "      <th>LocationIQ_potential_locations</th>\n",
       "      <th>name</th>\n",
       "      <th>house_number</th>\n",
       "      <th>road</th>\n",
       "      <th>neighbourhood</th>\n",
       "      <th>suburb</th>\n",
       "      <th>island</th>\n",
       "      <th>city</th>\n",
       "      <th>county</th>\n",
       "      <th>state</th>\n",
       "      <th>state_code</th>\n",
       "      <th>postcode</th>\n",
       "      <th>country</th>\n",
       "      <th>country_code</th>\n",
       "      <th>match accuracy</th>\n",
       "      <th>proximity allocated</th>\n",
       "    </tr>\n",
       "  </thead>\n",
       "  <tbody>\n",
       "    <tr>\n",
       "      <th>0</th>\n",
       "      <td>London</td>\n",
       "      <td>{'latitude': '51.5074456', 'longitude': '-0.1277653', 'matchcode':...</td>\n",
       "      <td>within countrycodes</td>\n",
       "      <td>51.5074456, -0.1277653</td>\n",
       "      <td>exact</td>\n",
       "      <td>centroid</td>\n",
       "      <td>8</td>\n",
       "      <td>No address element</td>\n",
       "      <td>No address element</td>\n",
       "      <td>No address element</td>\n",
       "      <td>No address element</td>\n",
       "      <td>No address element</td>\n",
       "      <td>No address element</td>\n",
       "      <td>London</td>\n",
       "      <td>No address element</td>\n",
       "      <td>England</td>\n",
       "      <td>No address element</td>\n",
       "      <td>No address element</td>\n",
       "      <td>United Kingdom</td>\n",
       "      <td>gb</td>\n",
       "      <td>high accuracy</td>\n",
       "      <td></td>\n",
       "    </tr>\n",
       "    <tr>\n",
       "      <th>1</th>\n",
       "      <td>London, GB, W1A 1AA</td>\n",
       "      <td>{'latitude': '51.5074456', 'longitude': '-0.1277653', 'matchcode':...</td>\n",
       "      <td>within countrycodes</td>\n",
       "      <td>51.5074456, -0.1277653</td>\n",
       "      <td>exact</td>\n",
       "      <td>centroid</td>\n",
       "      <td>4</td>\n",
       "      <td>No address element</td>\n",
       "      <td>No address element</td>\n",
       "      <td>No address element</td>\n",
       "      <td>No address element</td>\n",
       "      <td>No address element</td>\n",
       "      <td>No address element</td>\n",
       "      <td>London</td>\n",
       "      <td>No address element</td>\n",
       "      <td>England</td>\n",
       "      <td>No address element</td>\n",
       "      <td>No address element</td>\n",
       "      <td>United Kingdom</td>\n",
       "      <td>gb</td>\n",
       "      <td>high accuracy</td>\n",
       "      <td></td>\n",
       "    </tr>\n",
       "    <tr>\n",
       "      <th>2</th>\n",
       "      <td>LUTON AIRPORT, UK</td>\n",
       "      <td>{'latitude': '51.87810155', 'longitude': '-0.36642547440865236', '...</td>\n",
       "      <td>within countrycodes</td>\n",
       "      <td>51.87810155, -0.36642547440865236</td>\n",
       "      <td>approximate</td>\n",
       "      <td>point</td>\n",
       "      <td>2</td>\n",
       "      <td>London Luton Airport</td>\n",
       "      <td>No address element</td>\n",
       "      <td>Chiltern Green</td>\n",
       "      <td>No address element</td>\n",
       "      <td>Hyde</td>\n",
       "      <td>No address element</td>\n",
       "      <td>Chiltern Green</td>\n",
       "      <td>Central Bedfordshire</td>\n",
       "      <td>England</td>\n",
       "      <td>No address element</td>\n",
       "      <td>LU2 9LY</td>\n",
       "      <td>United Kingdom</td>\n",
       "      <td>gb</td>\n",
       "      <td>low accuracy</td>\n",
       "      <td></td>\n",
       "    </tr>\n",
       "    <tr>\n",
       "      <th>3</th>\n",
       "      <td>NORTHOLT, UK</td>\n",
       "      <td>{'latitude': '51.5484582', 'longitude': '-0.3695247', 'matchcode':...</td>\n",
       "      <td>within countrycodes</td>\n",
       "      <td>51.5484582, -0.3695247</td>\n",
       "      <td>approximate</td>\n",
       "      <td>point</td>\n",
       "      <td>6</td>\n",
       "      <td>Northolt</td>\n",
       "      <td>No address element</td>\n",
       "      <td>Mandeville Road</td>\n",
       "      <td>No address element</td>\n",
       "      <td>No address element</td>\n",
       "      <td>No address element</td>\n",
       "      <td>London</td>\n",
       "      <td>No address element</td>\n",
       "      <td>England</td>\n",
       "      <td>No address element</td>\n",
       "      <td>UB5 4AA</td>\n",
       "      <td>United Kingdom</td>\n",
       "      <td>gb</td>\n",
       "      <td>low accuracy</td>\n",
       "      <td></td>\n",
       "    </tr>\n",
       "    <tr>\n",
       "      <th>4</th>\n",
       "      <td>United Kingdom</td>\n",
       "      <td>{'latitude': '54.7023545', 'longitude': '-3.2765753', 'matchcode':...</td>\n",
       "      <td>within countrycodes</td>\n",
       "      <td>54.7023545, -3.2765753</td>\n",
       "      <td>exact</td>\n",
       "      <td>centroid</td>\n",
       "      <td>2</td>\n",
       "      <td>No address element</td>\n",
       "      <td>No address element</td>\n",
       "      <td>No address element</td>\n",
       "      <td>No address element</td>\n",
       "      <td>No address element</td>\n",
       "      <td>No address element</td>\n",
       "      <td>Cumbria</td>\n",
       "      <td>No address element</td>\n",
       "      <td>No address element</td>\n",
       "      <td>No address element</td>\n",
       "      <td>No address element</td>\n",
       "      <td>United Kingdom</td>\n",
       "      <td>gb</td>\n",
       "      <td>high accuracy</td>\n",
       "      <td>yes</td>\n",
       "    </tr>\n",
       "  </tbody>\n",
       "</table>\n",
       "</div>"
      ],
      "text/plain": [
       "              location  ... proximity allocated\n",
       "0               London  ...                    \n",
       "1  London, GB, W1A 1AA  ...                    \n",
       "2    LUTON AIRPORT, UK  ...                    \n",
       "3         NORTHOLT, UK  ...                    \n",
       "4       United Kingdom  ...                 yes\n",
       "\n",
       "[5 rows x 22 columns]"
      ]
     },
     "execution_count": 75,
     "metadata": {},
     "output_type": "execute_result"
    }
   ],
   "source": [
    "# Add a blank column called 'proximity allocated' to keep track of which ones were allocated a city\n",
    "df[\"proximity allocated\"] = \"\"\n",
    "\n",
    "# We're only looking at rows that 1. have a lat & lon and 2. don't currently have a 'city'\n",
    "filtered_df = df[\n",
    "    (df[\"latitude, longitude\"] != \"No latitude, No longitude\")\n",
    "    & (df[\"city\"] == \"No address element\")\n",
    "]\n",
    "\n",
    "# Create KD-Tree using dataframe 'uk_city_grouping'\n",
    "latitude_longitude = uk_city_grouping[\"latitude, longitude\"].apply(\n",
    "    lambda x: list(map(float, x.split(\", \")))\n",
    ")\n",
    "tree = scipy.spatial.KDTree(np.array(list(latitude_longitude)))\n",
    "\n",
    "# Loop through each row in the filtered dataframe\n",
    "for index, row in filtered_df.iterrows():\n",
    "    # Get the current 'latitude, longitude' combination\n",
    "    current_lat, current_lng = list(map(float, row[\"latitude, longitude\"].split(\", \")))\n",
    "\n",
    "    # Find the nearest city using the KD-Tree\n",
    "    distance, nearest_index = tree.query([[current_lat, current_lng]])\n",
    "\n",
    "    # Get the nearest city's name\n",
    "    nearest_city = uk_city_grouping.iloc[nearest_index][\"RDI City\"].values[0]\n",
    "\n",
    "    # Update the 'city' column in the 'df' dataframe\n",
    "    df.at[index, \"city\"] = nearest_city\n",
    "    # Include mention that this RDI grouping will be based on a approximated city, not the real allocated city by LocationIQ\n",
    "    df.at[index, \"proximity allocated\"] = \"yes\"\n",
    "\n",
    "\n",
    "df.head(5)"
   ]
  },
  {
   "cell_type": "markdown",
   "metadata": {
    "application/vnd.databricks.v1+cell": {
     "cellMetadata": {
      "byteLimit": 2048000,
      "rowLimit": 10000
     },
     "inputWidgets": {},
     "nuid": "e97e5a71-3635-4376-9fc7-1dd7a4dfb669",
     "showTitle": false,
     "tableResultSettingsMap": {},
     "title": ""
    }
   },
   "source": [
    "## Now that all rows have a city value, we can merge"
   ]
  },
  {
   "cell_type": "code",
   "execution_count": 0,
   "metadata": {
    "application/vnd.databricks.v1+cell": {
     "cellMetadata": {
      "byteLimit": 2048000,
      "rowLimit": 10000
     },
     "inputWidgets": {},
     "nuid": "85ea0c23-e31c-4c97-9d4a-4898bf5b336d",
     "showTitle": false,
     "tableResultSettingsMap": {},
     "title": ""
    }
   },
   "outputs": [
    {
     "output_type": "stream",
     "name": "stdout",
     "output_type": "stream",
     "text": [
      "There are 548 locations missing a match (59.1%)\n"
     ]
    }
   ],
   "source": [
    "merged_df_city = df.merge(\n",
    "    uk_city_grouping[[\"RDI City\", \"RDI grouping - region/nation\", \"Area/City Code\"]],\n",
    "    left_on=\"city\",\n",
    "    right_on=\"RDI City\",\n",
    "    how=\"left\",\n",
    ")\n",
    "\n",
    "missing_city = merged_df_city['RDI City'].isnull().sum()\n",
    "total_rows = merged_df_city.shape[0]\n",
    "missing_city_perc = (missing_city/total_rows) * 100\n",
    "print(f\"There are {missing_city} locations missing a match ({missing_city_perc:.1f}%)\")"
   ]
  },
  {
   "cell_type": "markdown",
   "metadata": {
    "application/vnd.databricks.v1+cell": {
     "cellMetadata": {
      "byteLimit": 2048000,
      "rowLimit": 10000
     },
     "inputWidgets": {},
     "nuid": "c35b1865-94c5-4450-a4ad-8027aa4c859f",
     "showTitle": false,
     "tableResultSettingsMap": {},
     "title": ""
    }
   },
   "source": [
    "## Some locations remain unmatched!\n",
    "This occurs when address elements are misclassified (e.g., a state is used instead of a city). We address this by substituting the 'city' key with alternative address elements—starting with 'county'—that the API might have confused."
   ]
  },
  {
   "cell_type": "code",
   "execution_count": 0,
   "metadata": {
    "application/vnd.databricks.v1+cell": {
     "cellMetadata": {
      "byteLimit": 2048000,
      "rowLimit": 10000
     },
     "inputWidgets": {},
     "nuid": "d74b2782-2fa5-49da-a663-76bbd8c6e5e6",
     "showTitle": true,
     "tableResultSettingsMap": {},
     "title": ""
    }
   },
   "outputs": [
    {
     "output_type": "stream",
     "name": "stdout",
     "output_type": "stream",
     "text": [
      "Matching by 'county' instead of 'city' has generated 192 more location matches.\nThere are still 356 locations missing a match (38.4%.)\n"
     ]
    }
   ],
   "source": [
    "null_mask = merged_df_city[\"RDI City\"].isnull()\n",
    "merged_df_county_null = merged_df_city.loc[null_mask]\n",
    "\n",
    "# Update the 'merged_df_city' dataframe by removing the rows where 'location RDI' is null\n",
    "merged_df_city = merged_df_city.loc[~null_mask]\n",
    "\n",
    "merged_df_county_null.drop(\n",
    "    [\"RDI City\", \"RDI grouping - region/nation\", \"Area/City Code\"], axis=1, inplace=True\n",
    ")\n",
    "\n",
    "# using .merge to check for matches of 'county' to 'RDI City'\n",
    "merged_df_county = merged_df_county_null.merge(\n",
    "    uk_city_grouping[[\"RDI City\", \"RDI grouping - region/nation\", \"Area/City Code\"]],\n",
    "    left_on=\"county\",\n",
    "    right_on=\"RDI City\",\n",
    "    how=\"left\",\n",
    ")\n",
    "\n",
    "missing_county = merged_df_county['RDI City'].isnull().sum()\n",
    "non_missing_county = merged_df_county.shape[0] - missing_county\n",
    "missing_county_perc = (missing_county/total_rows) * 100\n",
    "print(f\"Matching by 'county' instead of 'city' has generated {non_missing_county} more location matches.\")\n",
    "print(f\"There are still {missing_county} locations missing a match ({missing_county_perc:.1f}%.)\")"
   ]
  },
  {
   "cell_type": "markdown",
   "metadata": {
    "application/vnd.databricks.v1+cell": {
     "cellMetadata": {
      "byteLimit": 2048000,
      "rowLimit": 10000
     },
     "inputWidgets": {},
     "nuid": "fc628e40-d683-435c-b681-abf34d4db735",
     "showTitle": false,
     "tableResultSettingsMap": {},
     "title": ""
    }
   },
   "source": [
    "## Let's continue with 'state' instead of 'city' or 'county'"
   ]
  },
  {
   "cell_type": "code",
   "execution_count": 0,
   "metadata": {
    "application/vnd.databricks.v1+cell": {
     "cellMetadata": {
      "byteLimit": 2048000,
      "rowLimit": 10000
     },
     "inputWidgets": {},
     "nuid": "f3de4531-9941-44d3-abf1-9d4b8997ea4c",
     "showTitle": false,
     "tableResultSettingsMap": {},
     "title": ""
    }
   },
   "outputs": [
    {
     "output_type": "stream",
     "name": "stdout",
     "output_type": "stream",
     "text": [
      "Matching by 'state' instead of 'county' or 'city' has generated 83 more location matches.\nThere are still 273 locations missing a match (29.4%).\n"
     ]
    }
   ],
   "source": [
    "null_mask_state = merged_df_county[\"RDI City\"].isnull()\n",
    "merged_df_state_null = merged_df_county.loc[null_mask_state]\n",
    "\n",
    "# Update the 'merged_df_county' dataframe by removing the rows where 'RDI City' is null\n",
    "merged_df_county = merged_df_county.loc[~null_mask_state]\n",
    "\n",
    "merged_df_state_null.drop(\n",
    "    [\"RDI City\", \"RDI grouping - region/nation\", \"Area/City Code\"], axis=1, inplace=True\n",
    ")\n",
    "\n",
    "# using .merge to check for matches of 'state' to 'RDI City'\n",
    "merged_df_state = merged_df_state_null.merge(\n",
    "    uk_city_grouping[[\"RDI City\", \"RDI grouping - region/nation\", \"Area/City Code\"]],\n",
    "    left_on=\"state\",\n",
    "    right_on=\"RDI City\",\n",
    "    how=\"left\",\n",
    ")\n",
    "\n",
    "missing_state = merged_df_state['RDI City'].isnull().sum()\n",
    "non_missing_state = merged_df_state.shape[0] - missing_state\n",
    "missing_state_perc = (missing_state/total_rows) * 100\n",
    "print(f\"Matching by 'state' instead of 'county' or 'city' has generated {non_missing_state} more location matches.\")\n",
    "print(f\"There are still {missing_state} locations missing a match ({missing_state_perc:.1f}%).\")"
   ]
  },
  {
   "cell_type": "markdown",
   "metadata": {
    "application/vnd.databricks.v1+cell": {
     "cellMetadata": {
      "byteLimit": 2048000,
      "rowLimit": 10000
     },
     "inputWidgets": {},
     "nuid": "cf6ab25b-f861-430d-b96b-6512005df8da",
     "showTitle": false,
     "tableResultSettingsMap": {},
     "title": ""
    }
   },
   "source": [
    "## Final Matching Method\n",
    "After all previous matching attempts, some locations—often small towns or villages not included in our read-across table—remain unmatched. As the final step, we apply proximity matching to force a match, ensuring comprehensive coverage."
   ]
  },
  {
   "cell_type": "code",
   "execution_count": 0,
   "metadata": {
    "application/vnd.databricks.v1+cell": {
     "cellMetadata": {
      "byteLimit": 2048000,
      "rowLimit": 10000
     },
     "inputWidgets": {},
     "nuid": "dd9b411b-405b-4792-b3c0-1cd80bb04518",
     "showTitle": false,
     "tableResultSettingsMap": {},
     "title": ""
    }
   },
   "outputs": [
    {
     "output_type": "stream",
     "name": "stdout",
     "output_type": "stream",
     "text": [
      "All locations now matched\n"
     ]
    }
   ],
   "source": [
    "uk_merged_df = pd.concat([merged_df_city, merged_df_county, merged_df_state])\n",
    "df_nomatch = uk_merged_df[uk_merged_df[\"RDI City\"].isnull()].copy()\n",
    "\n",
    "# Drop rows from uk_merged_df where 'RDI City' is null\n",
    "uk_merged_df = uk_merged_df.dropna(subset=[\"RDI City\"])\n",
    "\n",
    "# Loop through each row in the filtered dataframe\n",
    "for index, row in df_nomatch.iterrows():\n",
    "    # Get the current 'latitude, longitude' combination\n",
    "    current_lat, current_lng = list(map(float, row[\"latitude, longitude\"].split(\", \")))\n",
    "\n",
    "    # Find the nearest city using the KD-Tree\n",
    "    distance, nearest_index = tree.query([[current_lat, current_lng]])\n",
    "\n",
    "    # Get the nearest city's name\n",
    "    nearest_city = uk_city_grouping.iloc[nearest_index][\"RDI City\"].values[0]\n",
    "\n",
    "    # Update the 'city' column in the 'df_nomatch' dataframe\n",
    "    df_nomatch.at[index, \"city\"] = nearest_city\n",
    "    # Include mention that this RDI grouping will be based on a approximated city, not the real allocated city by LocationIQ\n",
    "    df_nomatch.at[index, \"proximity allocated\"] = \"yes\"\n",
    "\n",
    "df_nomatch.drop(\n",
    "    [\"RDI City\", \"RDI grouping - region/nation\", \"Area/City Code\"], axis=1, inplace=True\n",
    ")\n",
    "\n",
    "df_nomatch = df_nomatch.merge(\n",
    "    uk_city_grouping[[\"RDI City\", \"RDI grouping - region/nation\", \"Area/City Code\"]],\n",
    "    left_on=\"city\",\n",
    "    right_on=\"RDI City\",\n",
    "    how=\"left\",\n",
    ")\n",
    "\n",
    "if df_nomatch['RDI City'].isnull().any():\n",
    "    print(\"Still some errors\")\n",
    "else:\n",
    "    print(\"All locations now matched\")"
   ]
  },
  {
   "cell_type": "markdown",
   "metadata": {
    "application/vnd.databricks.v1+cell": {
     "cellMetadata": {
      "byteLimit": 2048000,
      "rowLimit": 10000
     },
     "inputWidgets": {},
     "nuid": "58bfdc19-722b-4d33-9bd3-9a5f86152f87",
     "showTitle": false,
     "tableResultSettingsMap": {},
     "title": ""
    }
   },
   "source": [
    "## Creating the final table with all rows now matched\n",
    "and double-checking our data!"
   ]
  },
  {
   "cell_type": "code",
   "execution_count": 0,
   "metadata": {
    "application/vnd.databricks.v1+cell": {
     "cellMetadata": {
      "byteLimit": 2048000,
      "rowLimit": 10000
     },
     "inputWidgets": {},
     "nuid": "8abb9c2b-8491-4a11-84a3-077f63c85ed4",
     "showTitle": false,
     "tableResultSettingsMap": {},
     "title": ""
    }
   },
   "outputs": [
    {
     "output_type": "stream",
     "name": "stdout",
     "output_type": "stream",
     "text": [
      "1. Number of rows as expected\n2. Every row has an RDI Grouping\n3. No duplicate rows found\n"
     ]
    }
   ],
   "source": [
    "# Add all values in 'df_nomatch' to 'uk_merged_df' and now all locations will have a RDI read-across\n",
    "final_merged_df = pd.concat([uk_merged_df, df_nomatch])\n",
    "\n",
    "# Automatically fill in column 'proximity allocated' with 'no' where currently not 'yes'\n",
    "final_merged_df.loc[\n",
    "    final_merged_df[\"proximity allocated\"] != \"yes\", \"proximity allocated\"\n",
    "] = \"no\"\n",
    "\n",
    "# Handling of locations that just say the country\n",
    "country_names = [\"United Kingdom\", \", United Kingdom\"]\n",
    "\n",
    "final_merged_df.loc[\n",
    "    final_merged_df[\"location\"].isin(country_names),\n",
    "    [\"RDI grouping - region/nation\", \n",
    "     \"RDI City\", \n",
    "     \"Area/City Code\"],\n",
    "] = \"COUNTRY NULL\"\n",
    "\n",
    "\n",
    "# 1. Do we end up with the same number of rows that we started with?\n",
    "final_rows = final_merged_df.shape[0]\n",
    "if final_rows == total_rows:\n",
    "    print(\"1. Number of rows as expected\")\n",
    "else:\n",
    "    print(f\"1. WARNING: More/Less rows than expected\")\n",
    "\n",
    "# 2. Does every row have an RDI grouping?\n",
    "if final_merged_df[\"RDI grouping - region/nation\"].isnull().sum() == 0:\n",
    "    print(\"2. Every row has an RDI Grouping\")\n",
    "else:\n",
    "    print(f\"2. WARNING: Not every row has an RDI Grouping\")\n",
    "\n",
    "# 3. Check for duplicate rows\n",
    "duplicate_rows = final_merged_df.duplicated().sum()\n",
    "if duplicate_rows == 0:\n",
    "    print(\"3. No duplicate rows found\")\n",
    "else:\n",
    "    print(f\"3. WARNING: Found {duplicate_rows} duplicate rows\")"
   ]
  },
  {
   "cell_type": "markdown",
   "metadata": {
    "application/vnd.databricks.v1+cell": {
     "cellMetadata": {
      "byteLimit": 2048000,
      "rowLimit": 10000
     },
     "inputWidgets": {},
     "nuid": "7199aa92-8120-4a71-b99c-a1e557036a94",
     "showTitle": false,
     "tableResultSettingsMap": {},
     "title": ""
    }
   },
   "source": [
    "## With our location data now structured and aligned with our RDI Lens grouping system, the final step is to map these locations back to the original job IDs and perform our analyses!"
   ]
  }
 ],
 "metadata": {
  "application/vnd.databricks.v1+notebook": {
   "computePreferences": null,
   "dashboards": [],
   "environmentMetadata": null,
   "language": "python",
   "notebookMetadata": {
    "pythonIndentUnit": 4
   },
   "notebookName": "(Clonee) (git) Geolocation matching to RDI lens",
   "widgets": {}
  },
  "language_info": {
   "name": "python"
  }
 },
 "nbformat": 4,
 "nbformat_minor": 0
}